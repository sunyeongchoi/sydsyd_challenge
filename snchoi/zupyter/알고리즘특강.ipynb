{
 "cells": [
  {
   "cell_type": "markdown",
   "metadata": {},
   "source": [
    "## 선형리스트 구현\n",
    "## 01. 선형리스트 - 추가"
   ]
  },
  {
   "cell_type": "code",
   "execution_count": 1,
   "metadata": {},
   "outputs": [],
   "source": [
    "katok = [] # 빈 배열"
   ]
  },
  {
   "cell_type": "code",
   "execution_count": 2,
   "metadata": {},
   "outputs": [],
   "source": [
    "# 배열의 제일 뒤에 친구를 추가하는 함수\n",
    "def add_data(friend):\n",
    "    katok.append(None) # 빈칸 추가\n",
    "    kLen = len(katok) # 배열의 현재 크기 확인\n",
    "    katok[kLen-1] = friend"
   ]
  },
  {
   "cell_type": "code",
   "execution_count": 3,
   "metadata": {},
   "outputs": [
    {
     "name": "stdout",
     "output_type": "stream",
     "text": [
      "['다현', '정연', '쯔위', '사나', '지효']\n"
     ]
    }
   ],
   "source": [
    "add_data('다현')\n",
    "add_data('정연')\n",
    "add_data('쯔위')\n",
    "add_data('사나')\n",
    "add_data('지효')\n",
    "print(katok)"
   ]
  },
  {
   "cell_type": "markdown",
   "metadata": {},
   "source": [
    "## 02. 선형리스트 - 삽입&삭제"
   ]
  },
  {
   "cell_type": "code",
   "execution_count": 4,
   "metadata": {},
   "outputs": [],
   "source": [
    "def insert_data(position, friend):\n",
    "    katok.append(None) #빈칸 추가\n",
    "    kLen = len(katok)\n",
    "    \n",
    "    for i in range(kLen-1, position, -1):\n",
    "        katok[i] = katok[i-1]\n",
    "        katok[i-1] = None\n",
    "    katok[position] = friend\n",
    "        "
   ]
  },
  {
   "cell_type": "code",
   "execution_count": 5,
   "metadata": {},
   "outputs": [
    {
     "name": "stdout",
     "output_type": "stream",
     "text": [
      "['수녕', '다현', '정연', '솔라', '쯔위', '사나', '지효']\n"
     ]
    }
   ],
   "source": [
    "insert_data(2, '솔라')\n",
    "insert_data(0, '수녕')\n",
    "print(katok)"
   ]
  },
  {
   "cell_type": "code",
   "execution_count": 6,
   "metadata": {},
   "outputs": [],
   "source": [
    "def delete_data(position):\n",
    "    katok[position-1] = None\n",
    "    for i in range(position-1, len(katok)-1):\n",
    "        katok[i] = katok[i+1]\n",
    "        katok[i+1] = None\n",
    "    del katok[len(katok)-1]"
   ]
  },
  {
   "cell_type": "code",
   "execution_count": 7,
   "metadata": {},
   "outputs": [
    {
     "name": "stdout",
     "output_type": "stream",
     "text": [
      "['수녕', '정연', '솔라', '쯔위', '사나', '지효']\n"
     ]
    }
   ],
   "source": [
    "delete_data(2)\n",
    "print(katok)"
   ]
  },
  {
   "cell_type": "markdown",
   "metadata": {},
   "source": [
    "## 03. 선형리스트 응용 - 다항식"
   ]
  },
  {
   "cell_type": "code",
   "execution_count": 24,
   "metadata": {},
   "outputs": [],
   "source": [
    "## 함수 선언부\n",
    "def printPoly(p_x):\n",
    "    term = len(p_x) - 1 #최고차항\n",
    "    polyStr = \"P(x) = \"\n",
    "    \n",
    "    for i in range(len(p_x)):\n",
    "        coef = p_x[i]\n",
    "        \n",
    "        if coef >= 0:\n",
    "            polyStr += '+'\n",
    "        polyStr += str(coef) + 'x^' + str(term) + ' '\n",
    "        term -= 1\n",
    "    return polyStr"
   ]
  },
  {
   "cell_type": "code",
   "execution_count": 34,
   "metadata": {},
   "outputs": [],
   "source": [
    "def calcPoly(xValue, p_x):\n",
    "    term = len(p_x) - 1    \n",
    "    sum = 0\n",
    "    for i in range(len(p_x)):\n",
    "        coef = p_x[i] \n",
    "        if coef >= 0:\n",
    "            sum += (coef * (xValue**term))\n",
    "        term -= 1\n",
    "    return sum"
   ]
  },
  {
   "cell_type": "code",
   "execution_count": 35,
   "metadata": {},
   "outputs": [],
   "source": [
    "## 전역 변수부\n",
    "px = [4, 3, 0, 2] #4x^3 + 3x^2 + 0x^1 + 2x^0"
   ]
  },
  {
   "cell_type": "code",
   "execution_count": 38,
   "metadata": {},
   "outputs": [
    {
     "name": "stdout",
     "output_type": "stream",
     "text": [
      "P(x) = +4x^3 +3x^2 +0x^1 +2x^0 \n",
      "577\n"
     ]
    }
   ],
   "source": [
    "## 메인 코드부\n",
    "if __name__ == '__main__':\n",
    "    print(printPoly(px))\n",
    "    print(calcPoly(5, px))"
   ]
  },
  {
   "cell_type": "markdown",
   "metadata": {},
   "source": [
    "## 04. 연결 리스트1 - 구현"
   ]
  },
  {
   "cell_type": "code",
   "execution_count": 50,
   "metadata": {},
   "outputs": [],
   "source": [
    "class Node():\n",
    "    def __init__ (self):\n",
    "        self.data = None\n",
    "        self.link = None\n",
    "        \n",
    "def printNode(head):\n",
    "    current = head\n",
    "    print(current.data, end='   ')\n",
    "    while current.link != None:\n",
    "        current = current.link\n",
    "        print(current.data, end='   ')\n",
    "        \n",
    "        \n",
    "node1 = Node()\n",
    "node1.data = '다현'\n",
    "\n",
    "node2 = Node()\n",
    "node2.data = '정연'\n",
    "node1.link = node2\n",
    "\n",
    "node3 = Node()\n",
    "node3.data = '쯔위'\n",
    "node2.link = node3\n",
    "\n",
    "node4 = Node()\n",
    "node4.data = '사나'\n",
    "node3.link = node4\n",
    "\n",
    "node5 = Node()\n",
    "node5.data = '지효'\n",
    "node4.link = node5"
   ]
  },
  {
   "cell_type": "code",
   "execution_count": 46,
   "metadata": {},
   "outputs": [
    {
     "name": "stdout",
     "output_type": "stream",
     "text": [
      "다현   정연   쯔위   사나   지효   "
     ]
    }
   ],
   "source": [
    "print(node1.data, end='   ')\n",
    "print(node1.link.data, end='   ')\n",
    "print(node1.link.link.data, end='   ')\n",
    "print(node1.link.link.link.data, end='   ')\n",
    "print(node1.link.link.link.link.data, end='   ')"
   ]
  },
  {
   "cell_type": "code",
   "execution_count": 52,
   "metadata": {},
   "outputs": [],
   "source": [
    "newNode = Node()\n",
    "newNode.data = '수녕'\n",
    "newNode.link = node2.link\n",
    "node2.link = newNode"
   ]
  },
  {
   "cell_type": "code",
   "execution_count": 53,
   "metadata": {},
   "outputs": [
    {
     "name": "stdout",
     "output_type": "stream",
     "text": [
      "다현   정연   수녕   쯔위   사나   지효   "
     ]
    }
   ],
   "source": [
    "printNode(node1)"
   ]
  },
  {
   "cell_type": "markdown",
   "metadata": {},
   "source": [
    "## 05. 연결리스트2 - 완전구현"
   ]
  },
  {
   "cell_type": "code",
   "execution_count": 72,
   "metadata": {},
   "outputs": [],
   "source": [
    "## 함수 선언부\n",
    "def printNode(head):\n",
    "    current = head\n",
    "    print(current.data, end='   ')\n",
    "    while current.link != None:\n",
    "        current = current.link\n",
    "        print(current.data, end='   ')\n",
    "    print()\n",
    "    \n",
    "def insertNode(findData, insertData):\n",
    "    global memory, head, pre, current \n",
    "    \n",
    "    if findData == head.data: # 첫 노드가 찾는 값일때\n",
    "        node = Node()\n",
    "        node.data = insertData\n",
    "        node.link = head\n",
    "        head = node\n",
    "        return\n",
    "    \n",
    "    # 두번째 노드 이후일때...\n",
    "    current = head\n",
    "    while current.link != None:\n",
    "        pre = current\n",
    "        current = current.link\n",
    "        if current == findData:\n",
    "            node = Node()\n",
    "            node.data = insertData\n",
    "            node.link = current\n",
    "            pre.link = node\n",
    "            return\n",
    "        # 마지막까지 못찾을 때.. (마지막에 삽입)\n",
    "    node = Node()\n",
    "    node.data = insertData\n",
    "    current.link = node\n",
    "\n",
    "def deleteNode(findData):\n",
    "    global memory, head, pre, current\n",
    "    if findData == head.data: # 첫 노드가 찾는 값일때\n",
    "        current = head\n",
    "        head = head.link\n",
    "        del(current)\n",
    "        return\n",
    "    \n",
    "    # 두번째 노드 이후를 삭제\n",
    "    current = head\n",
    "    while current.link != None:\n",
    "        pre = current\n",
    "        current = current.link\n",
    "        if current.data == findData:\n",
    "            pre.link = current.link\n",
    "            del(current)\n",
    "            return \n",
    "\n",
    "def find_node(findData):\n",
    "    # 찾으면 True, 못찾으면 False 리턴\n",
    "    global memory, head, pre, current\n",
    "    if findData == head.data:\n",
    "        return True\n",
    "    \n",
    "    current = head\n",
    "    while current.link != None:\n",
    "        pre = current\n",
    "        current = current.link\n",
    "        if current.data == findData:\n",
    "            return True\n",
    "        else:\n",
    "            return False"
   ]
  },
  {
   "cell_type": "code",
   "execution_count": 73,
   "metadata": {},
   "outputs": [],
   "source": [
    "## 전역 변수부\n",
    "memory = []\n",
    "head, pre, current = None, None, None\n",
    "dataArr = ['다현', '정연', '쯔위', '사나', '지효']"
   ]
  },
  {
   "cell_type": "code",
   "execution_count": 74,
   "metadata": {},
   "outputs": [
    {
     "name": "stdout",
     "output_type": "stream",
     "text": [
      "다현   정연   쯔위   사나   지효   \n"
     ]
    }
   ],
   "source": [
    "## 메인 코드부\n",
    "if __name__ == '__main__':\n",
    "    # 첫 번째 노드\n",
    "    node = Node()\n",
    "    node.data = dataArr[0]\n",
    "    head = node # 헤드지정(*중요)\n",
    "    memory.append(node)\n",
    "    \n",
    "    # 두 번째 노드부터...\n",
    "    for data in dataArr[1:]:\n",
    "        pre = node # 이전노드 기억(*중요)\n",
    "        node = Node()\n",
    "        node.data = data\n",
    "        pre.link = node\n",
    "        memory.append(node)\n",
    "        \n",
    "    printNode(head)"
   ]
  },
  {
   "cell_type": "code",
   "execution_count": 75,
   "metadata": {},
   "outputs": [],
   "source": [
    "insertNode('다현', '화사')"
   ]
  },
  {
   "cell_type": "code",
   "execution_count": 76,
   "metadata": {},
   "outputs": [
    {
     "name": "stdout",
     "output_type": "stream",
     "text": [
      "화사   다현   정연   쯔위   사나   지효   \n"
     ]
    }
   ],
   "source": [
    "printNode(head)"
   ]
  },
  {
   "cell_type": "code",
   "execution_count": 77,
   "metadata": {},
   "outputs": [
    {
     "name": "stdout",
     "output_type": "stream",
     "text": [
      "다현   정연   쯔위   사나   지효   \n"
     ]
    }
   ],
   "source": [
    "deleteNode('화사')\n",
    "printNode(head)"
   ]
  },
  {
   "cell_type": "markdown",
   "metadata": {},
   "source": [
    "## 06. 스택(Stack) 기본"
   ]
  },
  {
   "cell_type": "code",
   "execution_count": 85,
   "metadata": {},
   "outputs": [],
   "source": [
    "# 스택의 초기화\n",
    "stack = [None, None, None, None, None]\n",
    "top = -1"
   ]
  },
  {
   "cell_type": "code",
   "execution_count": 86,
   "metadata": {},
   "outputs": [],
   "source": [
    "# push\n",
    "top += 1\n",
    "stack[top] = 'A'"
   ]
  },
  {
   "cell_type": "code",
   "execution_count": 87,
   "metadata": {},
   "outputs": [],
   "source": [
    "top += 1\n",
    "stack[top] = 'B'"
   ]
  },
  {
   "cell_type": "code",
   "execution_count": 88,
   "metadata": {},
   "outputs": [],
   "source": [
    "top += 1\n",
    "stack[top] = 'C'"
   ]
  },
  {
   "cell_type": "code",
   "execution_count": 89,
   "metadata": {},
   "outputs": [
    {
     "name": "stdout",
     "output_type": "stream",
     "text": [
      "['A', 'B', 'C', None, None]\n"
     ]
    }
   ],
   "source": [
    "print(stack)"
   ]
  },
  {
   "cell_type": "code",
   "execution_count": 90,
   "metadata": {},
   "outputs": [
    {
     "name": "stdout",
     "output_type": "stream",
     "text": [
      "C\n"
     ]
    }
   ],
   "source": [
    "data = stack[top]\n",
    "stack[top] = None\n",
    "top -= 1\n",
    "print(data)"
   ]
  },
  {
   "cell_type": "code",
   "execution_count": 91,
   "metadata": {},
   "outputs": [
    {
     "name": "stdout",
     "output_type": "stream",
     "text": [
      "B\n"
     ]
    }
   ],
   "source": [
    "data = stack[top]\n",
    "stack[top] = None\n",
    "top -= 1\n",
    "print(data)"
   ]
  },
  {
   "cell_type": "code",
   "execution_count": 92,
   "metadata": {},
   "outputs": [
    {
     "name": "stdout",
     "output_type": "stream",
     "text": [
      "['A', None, None, None, None]\n"
     ]
    }
   ],
   "source": [
    "print(stack)"
   ]
  },
  {
   "cell_type": "markdown",
   "metadata": {},
   "source": [
    "## 07. 스택 완전 구현"
   ]
  },
  {
   "cell_type": "code",
   "execution_count": 99,
   "metadata": {},
   "outputs": [],
   "source": [
    "## 함수 선언부\n",
    "def isStackFull():\n",
    "    global stack,top, SIZE\n",
    "    if (top >= SIZE-1):\n",
    "        return True\n",
    "    else:\n",
    "        return False\n",
    "\n",
    "def isStackEmpty():\n",
    "    if(top <= -1):\n",
    "        return True\n",
    "    else:\n",
    "        return False\n",
    "\n",
    "def push(data):\n",
    "    global stack, top, SIZE\n",
    "    if (isStackFull()):\n",
    "        print('스택꽉참')\n",
    "        return\n",
    "    top += 1\n",
    "    stack[top] = data\n",
    "    \n",
    "## pop구현 --> 데이터를 반환\n",
    "## isStackEmpty()\n",
    "def pop():\n",
    "    global stack, top, SIZE\n",
    "    if (isStackEmpty()):\n",
    "        print('스택비었음')\n",
    "        return\n",
    "    data = stack[top]\n",
    "    stack[top] = None\n",
    "    top -= 1\n",
    "    return data"
   ]
  },
  {
   "cell_type": "code",
   "execution_count": 100,
   "metadata": {},
   "outputs": [],
   "source": [
    "## 전역 변수부\n",
    "SIZE = 5\n",
    "stack = [None for _ in range(SIZE)]\n",
    "top = -1"
   ]
  },
  {
   "cell_type": "code",
   "execution_count": 101,
   "metadata": {},
   "outputs": [
    {
     "name": "stdout",
     "output_type": "stream",
     "text": [
      "스택꽉참\n",
      "['a', 'b', 'c', 'd', 'e']\n",
      "e\n",
      "d\n",
      "c\n",
      "b\n",
      "a\n",
      "스택비었음\n",
      "None\n"
     ]
    }
   ],
   "source": [
    "## 메인 코드부\n",
    "if __name__ == '__main__':\n",
    "    push('a');push('b');push('c');push('d')\n",
    "    push('e');push('f')\n",
    "    print(stack)\n",
    "    print(pop());print(pop());print(pop())\n",
    "    print(pop());print(pop());print(pop())"
   ]
  },
  {
   "cell_type": "markdown",
   "metadata": {},
   "source": [
    "## **알고리즘 문제"
   ]
  },
  {
   "cell_type": "code",
   "execution_count": 110,
   "metadata": {},
   "outputs": [
    {
     "name": "stdout",
     "output_type": "stream",
     "text": [
      " ----- 초기 배열 -----\n",
      "    5    7   -5  100   73\n",
      "   35   23    4  190   33\n",
      "   49   85  662   39   81\n",
      "  124  -59   86   46   52\n",
      "   27    7    8   33  -56\n",
      "--------------------------------------\n",
      " ----- 치환 후 배열 -----\n",
      "    5    7    0  100   73\n",
      "   35   23    4   90   33\n",
      "   49   85   62   39   81\n",
      "   24    0   86   46   52\n",
      "   27    7    8   33    0\n",
      "--------------------------------------\n",
      "최대 영역의 합: 296\n"
     ]
    }
   ],
   "source": [
    "ARRAY_LENGTH = 5  # 배열의 행과 열 크기(고정)\n",
    "\n",
    "def replaceData(numData): # numData\t2차원 정수 배열\n",
    "    retData = [] # 조건에 따라서 전처리된 2차원 배열\n",
    "    retData = numData\n",
    "\n",
    "    ###########   여기부터 코딩 (1) ---------------->\n",
    "    for i,arr in enumerate(retData):\n",
    "        for j,data in enumerate(arr):\n",
    "            if data > 100:\n",
    "                data = data % 100\n",
    "            elif data < 0:\n",
    "                data = 0\n",
    "            retData[i][j] = data\n",
    "    ###########   <-------------- 여기까지 코딩 (1)\n",
    "\n",
    "    return retData\n",
    "\n",
    "\n",
    "# 2x2 크기의 배열의 최대합을 구한다.\n",
    "def getMaxSum(numData): # 요구 사항에 맞춰 처리된 2차원 정수 배열\n",
    "    maxSum = 0 # 최대합\n",
    "\n",
    "    ###########   여기부터 코딩 (2) ---------------->\n",
    "    global ARRAY_LENGTH\n",
    "    sumArr = []\n",
    "    for i in range(ARRAY_LENGTH - 1):\n",
    "        for j in range(ARRAY_LENGTH - 1):\n",
    "            sumArr.append(numData[i][j] + numData[i][j+1] + numData[i+1][j] + numData[i+1][j+1])\n",
    "    maxSum = max(sumArr)\n",
    "    return maxSum\n",
    "\n",
    "\n",
    "\n",
    "    ###########   <-------------- 여기까지 코딩 (2)\n",
    "\n",
    "    return maxSum\n",
    "\n",
    "## 전역 변수 선언 부분\n",
    "numData =[] # 5x5 배열\n",
    "ARRAY_LENGTH = 5 # 배열의 행과 열 크기(고정)\n",
    "\n",
    "def main() :\n",
    "        global numData\n",
    "\n",
    "        loadData() # 2차원 배열 읽어오기\n",
    "\n",
    "        ## 원본 출력\n",
    "        print(' ----- 초기 배열 -----')\n",
    "        printData()\n",
    "\n",
    "        # 1. 데이터 치환 작업\n",
    "        numData = replaceData(numData)\n",
    "        print(' ----- 치환 후 배열 -----')\n",
    "        printData()\n",
    "\n",
    "        # 2. 최대 합 구하기.(2x2 크기)\n",
    "        maxSum = getMaxSum(numData)\n",
    "        print('최대 영역의 합: %d' % maxSum)\n",
    "\n",
    "       \n",
    "## 함수 선언 부분\n",
    "def  loadData() : # 데이터 불러오기\n",
    "    global numData\n",
    "\n",
    "    ###########\n",
    "    # 제공 데이터 세트 1 \n",
    "    # 5x5 숫자 배열. \n",
    "    ###########\n",
    "    numData = \\\n",
    "    [\n",
    "        [ 5, 7, -5, 100, 73 ],\n",
    "        [ 35, 23, 4, 190, 33 ],\n",
    "        [ 49, 85, 662, 39, 81 ],\n",
    "        [ 124, -59, 86, 46, 52 ],\n",
    "        [ 27, 7, 8, 33, -56 ] \n",
    "    ]\n",
    "    \n",
    "    \n",
    "\n",
    "def printData() :\n",
    "        for i in range(0, ARRAY_LENGTH) :\n",
    "                for k in range(0, ARRAY_LENGTH) :\n",
    "                        try :\n",
    "                                print(\"%5d\" % numData[i][k], end='')\n",
    "                        except :\n",
    "                                pass\n",
    "                print()\n",
    "        print('--------------------------------------')\n",
    "\n",
    "## 메인 함수 호출 ##\n",
    "if __name__ == \"__main__\" :\n",
    "    main()"
   ]
  },
  {
   "cell_type": "markdown",
   "metadata": {},
   "source": [
    "## 08. 큐 기본"
   ]
  },
  {
   "cell_type": "code",
   "execution_count": 112,
   "metadata": {},
   "outputs": [],
   "source": [
    "# 삽입 : enque / 추출 : deque"
   ]
  },
  {
   "cell_type": "code",
   "execution_count": 117,
   "metadata": {},
   "outputs": [
    {
     "name": "stdout",
     "output_type": "stream",
     "text": [
      "A\n",
      "B\n",
      "C\n"
     ]
    }
   ],
   "source": [
    "queue = [None, None, None]\n",
    "front = rear = -1\n",
    "\n",
    "rear += 1\n",
    "queue[rear] = 'A'\n",
    "rear += 1\n",
    "queue[rear] = 'B'\n",
    "\n",
    "front += 1\n",
    "data = queue[front]\n",
    "queue[front] = None\n",
    "print(data)\n",
    "\n",
    "rear += 1\n",
    "queue[rear] = 'C'\n",
    "\n",
    "front += 1\n",
    "data = queue[front]\n",
    "queue[front] = None\n",
    "print(data)\n",
    "\n",
    "front += 1\n",
    "data = queue[front]\n",
    "queue[front] = None\n",
    "print(data)"
   ]
  },
  {
   "cell_type": "code",
   "execution_count": 118,
   "metadata": {},
   "outputs": [
    {
     "name": "stdout",
     "output_type": "stream",
     "text": [
      "[None, None, None]\n"
     ]
    }
   ],
   "source": [
    "print(queue)"
   ]
  },
  {
   "cell_type": "code",
   "execution_count": 119,
   "metadata": {},
   "outputs": [
    {
     "ename": "IndexError",
     "evalue": "list assignment index out of range",
     "output_type": "error",
     "traceback": [
      "\u001b[1;31m---------------------------------------------------------------------------\u001b[0m",
      "\u001b[1;31mIndexError\u001b[0m                                Traceback (most recent call last)",
      "\u001b[1;32m<ipython-input-119-a9804934ddbc>\u001b[0m in \u001b[0;36m<module>\u001b[1;34m()\u001b[0m\n\u001b[0;32m      1\u001b[0m \u001b[0mrear\u001b[0m \u001b[1;33m+=\u001b[0m \u001b[1;36m1\u001b[0m\u001b[1;33m\u001b[0m\u001b[0m\n\u001b[1;32m----> 2\u001b[1;33m \u001b[0mqueue\u001b[0m\u001b[1;33m[\u001b[0m\u001b[0mrear\u001b[0m\u001b[1;33m]\u001b[0m \u001b[1;33m=\u001b[0m \u001b[1;34m'D'\u001b[0m\u001b[1;33m\u001b[0m\u001b[0m\n\u001b[0m",
      "\u001b[1;31mIndexError\u001b[0m: list assignment index out of range"
     ]
    }
   ],
   "source": [
    "rear += 1\n",
    "queue[rear] = 'D'"
   ]
  },
  {
   "cell_type": "markdown",
   "metadata": {},
   "source": [
    "## 09. 원형 큐"
   ]
  },
  {
   "cell_type": "code",
   "execution_count": 144,
   "metadata": {},
   "outputs": [],
   "source": [
    "## 함수 선언부\n",
    "\n",
    "def isQueueFull(): # T/F\n",
    "    # 힌트 : rear + 1이 front니? SIZE로 나눠야 함.\n",
    "    global SIZE, queue, front, rear\n",
    "    if (rear + 1)%SIZE == front:\n",
    "        return True\n",
    "    else:\n",
    "        return False\n",
    "    \n",
    "def isQueueEmpty():\n",
    "    global SIZE, queue, front, rear\n",
    "    if(rear == front):\n",
    "        return True\n",
    "    else:\n",
    "        return False\n",
    "\n",
    "def enQueue(data):\n",
    "    global SIZE, queue, front, rear\n",
    "    if isQueueFull():\n",
    "        print('큐가 가득 찼습니다.')\n",
    "        return\n",
    "    rear = (rear + 1) % SIZE\n",
    "    queue[rear] = data\n",
    "    return queue\n",
    "\n",
    "def deQueue():\n",
    "    global SIZE, queue, front, rear\n",
    "    if(isQueueEmpty()):\n",
    "        print('큐가 비어있습니다.')\n",
    "        return\n",
    "    front = (front + 1) % SIZE\n",
    "    data = queue[front]\n",
    "    queue[front] = None\n",
    "    return data"
   ]
  },
  {
   "cell_type": "code",
   "execution_count": 145,
   "metadata": {},
   "outputs": [],
   "source": [
    "## 전역 변수부\n",
    "SIZE = 5\n",
    "queue = [None for _ in range(SIZE)]\n",
    "front=rear=0"
   ]
  },
  {
   "cell_type": "code",
   "execution_count": 146,
   "metadata": {},
   "outputs": [
    {
     "name": "stdout",
     "output_type": "stream",
     "text": [
      "큐가 가득 찼습니다.\n"
     ]
    }
   ],
   "source": [
    "## 메인 코드부\n",
    "enQueue('a')\n",
    "enQueue('b')\n",
    "enQueue('c')\n",
    "enQueue('d')\n",
    "enQueue('e')"
   ]
  },
  {
   "cell_type": "code",
   "execution_count": 147,
   "metadata": {},
   "outputs": [
    {
     "name": "stdout",
     "output_type": "stream",
     "text": [
      "[None, 'a', 'b', 'c', 'd']\n"
     ]
    }
   ],
   "source": [
    "print(queue)"
   ]
  },
  {
   "cell_type": "code",
   "execution_count": 148,
   "metadata": {},
   "outputs": [
    {
     "name": "stdout",
     "output_type": "stream",
     "text": [
      "[None, None, 'b', 'c', 'd']\n"
     ]
    }
   ],
   "source": [
    "deQueue()\n",
    "print(queue)"
   ]
  },
  {
   "cell_type": "code",
   "execution_count": 149,
   "metadata": {},
   "outputs": [
    {
     "data": {
      "text/plain": [
       "'b'"
      ]
     },
     "execution_count": 149,
     "metadata": {},
     "output_type": "execute_result"
    }
   ],
   "source": [
    "deQueue()"
   ]
  },
  {
   "cell_type": "markdown",
   "metadata": {},
   "source": [
    "## **알고리즘 문제"
   ]
  },
  {
   "cell_type": "code",
   "execution_count": 151,
   "metadata": {},
   "outputs": [
    {
     "name": "stdout",
     "output_type": "stream",
     "text": [
      " ----- (0) 원본 사진 -----\n",
      "C D \n",
      "K P \n",
      "A R \n",
      "P Q \n",
      "\n",
      " ----- (1) 좌우 반전된 사진 -----\n",
      "D C \n",
      "P K \n",
      "R A \n",
      "Q P \n",
      "\n",
      " ----- (2) 2배 확대된 사진 -----\n",
      "D D C C \n",
      "D D C C \n",
      "P P K K \n",
      "P P K K \n",
      "R R A A \n",
      "R R A A \n",
      "Q Q P P \n",
      "Q Q P P \n",
      "\n",
      " ----- (3) 90도 회전된 사진 -----\n",
      "C C K K A A P P \n",
      "C C K K A A P P \n",
      "D D P P R R Q Q \n",
      "D D P P R R Q Q \n",
      "\n",
      " ----- (4) 테두리가 추가된 사진 -----\n",
      "* * * * * * * * * * \n",
      "* C C K K A A P P * \n",
      "* C C K K A A P P * \n",
      "* D D P P R R Q Q * \n",
      "* D D P P R R Q Q * \n",
      "* * * * * * * * * * \n",
      "\n"
     ]
    }
   ],
   "source": [
    "# 2차원 사진  배열을 좌우 반전 시킨다.\n",
    "def reversalPhoto(photoAry, height, width): # 2차원 사진 배열, 사진 배열의 행 개수, 사진 배열의 열 개수\n",
    "    retAry = [] # 좌우 반전된 2차원 사진 배열\n",
    "    ###########   여기부터 코딩 (1) ---------------->\n",
    "    retAry = [ ['' for _ in range(width)] for _ in range(height) ]\n",
    "    for i in range(height) :\n",
    "        for k in range(width):\n",
    "            retAry[i][width-k-1] = photoAry[i][k]\n",
    "    # retAry = [['D', 'C'], []]....\n",
    "    ###########   <-------------- 여기까지 코딩 (1)\n",
    "    return retAry\n",
    "\n",
    "\n",
    "# 2차원 사진  배열을 2배 확대 시킨다.\n",
    "def zoomScale(photoAry, height, width): #2차원 사진 배열, 사진 배열의 행 개수, 사진 배열의 열 개수\n",
    "    retAry = [] # 2배 확대된 2차원 사진 배열\n",
    "    ###########   여기부터 코딩 (2) ---------------->\n",
    "    retAry = [['' for _ in range(width*2)] for _ in range(height*2)]\n",
    "    for i in range(height*2) :\n",
    "        for k in range(width*2) :\n",
    "            retAry[i][k] = photoAry[i//2][k//2]\n",
    "    ###########   <-------------- 여기까지 코딩 (2)\n",
    "\n",
    "    return retAry\n",
    "\n",
    "# 2차원 사진 배열을 왼쪽으로 90도 회전시킨다.\n",
    "def rotatePhoto(photoAry, height, width): # 2차원 사진 배열, 사진 배열의 행 개수, 사진 배열의 열 개수\n",
    "    retAry = [] # 왼쪽으로 90도 회전된 2차원 사진 배열\n",
    "    ###########   여기부터 코딩 (3) ---------------->\n",
    "    retAry = [ ['' for _ in range(height)] for _ in range(width) ]\n",
    "    for i in range(height) :\n",
    "        for k in range(width):\n",
    "            retAry[width-k-1][i] = photoAry[i][k]\n",
    "    ###########   <-------------- 여기까지 코딩 (3)\n",
    "\n",
    "    return retAry\n",
    "\n",
    "\n",
    "# 2차원 사진 배열에 테두리를 추가한다.\n",
    "def drawEdge(photoAry, height, width): # 2차원 사진 배열, 사진 배열의 행 개수, 사진 배열의 열 개수\n",
    "    retAry = [] # 테두리가 추가된 2차원 사진 배열\n",
    "    ###########   여기부터 코딩 (4) ---------------->\n",
    "    retAry = [ ['*' for _ in range(width+2)] for _ in range(height+2) ]\n",
    "    for i in range(1,height+1) :\n",
    "        for k in range(1,width+1):\n",
    "            retAry[i][k]=photoAry[i-1][k-1]\n",
    "    ###########   <-------------- 여기까지 코딩 (4)\n",
    "\n",
    "    return retAry\n",
    "\n",
    "\n",
    "## 전역 변수 선언 부분\n",
    "inputPhotoAry =[] # 입력 배열(2차원) \n",
    "outputPhotoAry = [] # 출력 배열(2차원)\n",
    "rowNum, colNum=0, 0 # 배열의 크기. \n",
    "\n",
    "def main() :\n",
    "        global inputPhotoAry, outputPhotoAry, rowNum, colNum\n",
    "\n",
    "        loadData() # 2차원 이미지 읽어오기\n",
    "\n",
    "        ## 원본 출력\n",
    "        print(' ----- (0) 원본 사진 -----')\n",
    "        printData(inputPhotoAry, rowNum, colNum)\n",
    "        \n",
    "        ## 좌우 반전\n",
    "        outputPhotoAry = reversalPhoto(inputPhotoAry, rowNum, colNum)\n",
    "        print(' ----- (1) 좌우 반전된 사진 -----')\n",
    "        printData(outputPhotoAry, rowNum, colNum)\n",
    "        inputPhotoAry = outputPhotoAry[:] #  출력배열 --> 입력 배열\n",
    "        \n",
    "        ## 2배 확대\n",
    "        outputPhotoAry = zoomScale(inputPhotoAry, rowNum, colNum)\n",
    "        print(' ----- (2) 2배 확대된 사진 -----')\n",
    "        rowNum *= 2; # 행 2배 \n",
    "        colNum *= 2;  # 열 2배\n",
    "        printData(outputPhotoAry, rowNum, colNum)\n",
    "        inputPhotoAry = outputPhotoAry[:] #  출력배열 --> 입력 배열\n",
    "\n",
    "        ## 왼쪽 90도 회전\n",
    "        outputPhotoAry = rotatePhoto(inputPhotoAry, rowNum, colNum)\n",
    "        print(' ----- (3) 90도 회전된 사진 -----')\n",
    "        rowNum, colNum = colNum, rowNum # 행, 열을 교체\n",
    "        printData(outputPhotoAry, rowNum, colNum)\n",
    "        inputPhotoAry = outputPhotoAry[:] #  출력배열 --> 입력 배열\n",
    "        \n",
    "        ## 테두리가 추가된 사진.\n",
    "        outputPhotoAry = drawEdge(inputPhotoAry, rowNum, colNum)\n",
    "        print(' ----- (4) 테두리가 추가된 사진 -----')\n",
    "        printData(outputPhotoAry, rowNum+2, colNum+2)\n",
    "        \n",
    "## 함수 선언 부분\n",
    "def  loadData() : # 데이터 불러오기\n",
    "    global inputPhotoAry, outputPhotoAry, rowNum, colNum\n",
    "\n",
    "    ###########\n",
    "    # 제공 데이터 세트 1 \n",
    "    # 4x2 사진 데이터. \n",
    "    ###########\n",
    "    rowNum , colNum = 4, 2 # 행 및 열의 개수\n",
    "    inputPhotoAry = \\\n",
    "    [\n",
    "        ['C', 'D' ],\n",
    "        ['K', 'P' ],\n",
    "        ['A', 'R' ],\n",
    "        ['P', 'Q' ]\n",
    "    ]\n",
    "\n",
    "\n",
    "def printData(photo, x, y) :\n",
    "    global inputPhotoAry, outputPhotoAry, rowNum, colNum\n",
    "    \n",
    "    for i in range(0, x) :\n",
    "        for k in range(0, y) :\n",
    "                try :\n",
    "                        print(\"%c \" % photo[i][k], end='')\n",
    "                except :\n",
    "                        pass\n",
    "        print()\n",
    "    print()\n",
    "\n",
    "## 메인 함수 호출 ##\n",
    "if __name__ == \"__main__\" :\n",
    "    main()\n"
   ]
  },
  {
   "cell_type": "markdown",
   "metadata": {},
   "source": [
    "## 10. 정렬"
   ]
  },
  {
   "cell_type": "code",
   "execution_count": 154,
   "metadata": {},
   "outputs": [],
   "source": [
    "import random"
   ]
  },
  {
   "cell_type": "code",
   "execution_count": 183,
   "metadata": {},
   "outputs": [],
   "source": [
    "## 함수 선언부\n",
    "def findMinIdx(arr):\n",
    "    retIdx = 0\n",
    "    for i in range(len(arr)):\n",
    "        if arr[retIdx] > arr[i]:\n",
    "            retIdx = i\n",
    "    return retIdx\n",
    "\n",
    "def findMaxIdx(arr):\n",
    "    retIdx = 0\n",
    "    for i in range(len(arr)):\n",
    "        if arr[retIdx] < arr[i]:\n",
    "            retIdx = i\n",
    "    return retIdx\n",
    "\n",
    "def insertionSort(arr):\n",
    "    newArr = []\n",
    "    for i in range(len(arr)):\n",
    "        minIdx = findMinIdx(arr)\n",
    "        newArr.append(arr[minIdx])\n",
    "        del(arr[minIdx])\n",
    "    return newArr"
   ]
  },
  {
   "cell_type": "code",
   "execution_count": 184,
   "metadata": {},
   "outputs": [],
   "source": [
    "## 전역 변수부\n",
    "before = [random.randint(10, 99) for _ in range(20)]\n",
    "after = []"
   ]
  },
  {
   "cell_type": "code",
   "execution_count": 186,
   "metadata": {},
   "outputs": [
    {
     "name": "stdout",
     "output_type": "stream",
     "text": [
      "[16, 44, 88, 31, 58, 84, 79, 11, 55, 29, 14, 35, 38, 47, 64, 91, 18, 30, 63, 85]\n",
      "[11, 14, 16, 18, 29, 30, 31, 35, 38, 44, 47, 55, 58, 63, 64, 79, 84, 85, 88, 91]\n"
     ]
    }
   ],
   "source": [
    "## 메인 코드부\n",
    "print(before)\n",
    "after = insertionSort(before)\n",
    "print(after)"
   ]
  },
  {
   "cell_type": "markdown",
   "metadata": {},
   "source": [
    "## 11. 숫자 검색"
   ]
  },
  {
   "cell_type": "code",
   "execution_count": 192,
   "metadata": {},
   "outputs": [],
   "source": [
    "import random "
   ]
  },
  {
   "cell_type": "code",
   "execution_count": 197,
   "metadata": {},
   "outputs": [],
   "source": [
    "# 중복된 데이터가 없다고 가정\n",
    "# (1) 1개만 찾는 값이 있다.\n",
    "# (2) 1개만 찾으면 된다.\n",
    "\n",
    "def seqSearch(arr, data):\n",
    "    pos = -1\n",
    "    for i in range(len(arr)):\n",
    "        if arr[i] == data:\n",
    "            pos = i\n",
    "            break\n",
    "    return pos\n",
    "\n",
    "def seqSearchMulti(arr, data):\n",
    "    posArr = []\n",
    "    pos = -1\n",
    "    for i in range(len(arr)):\n",
    "        if arr[i] == data:\n",
    "            posArr.append(i)\n",
    "    return posArr"
   ]
  },
  {
   "cell_type": "code",
   "execution_count": 198,
   "metadata": {},
   "outputs": [
    {
     "name": "stdout",
     "output_type": "stream",
     "text": [
      "[91, 42, 22, 18, 87, 36, 84, 37, 71, 25, 58, 12, 34, 12, 89, 36, 67, 63, 47, 40, 32, 68, 34, 44, 21, 47, 71, 45, 76, 78, 96, 76, 24, 57, 44, 31, 78, 99, 47, 87, 37, 46, 54, 60, 77, 89, 17, 70, 44, 96]\n"
     ]
    }
   ],
   "source": [
    "dataArr = [random.randint(11, 99) for _ in range(50)]\n",
    "print(dataArr)"
   ]
  },
  {
   "cell_type": "code",
   "execution_count": 201,
   "metadata": {},
   "outputs": [
    {
     "name": "stdout",
     "output_type": "stream",
     "text": [
      "23\n"
     ]
    }
   ],
   "source": [
    "position = seqSearch(dataArr, 44)\n",
    "print(position)"
   ]
  },
  {
   "cell_type": "code",
   "execution_count": 202,
   "metadata": {},
   "outputs": [
    {
     "name": "stdout",
     "output_type": "stream",
     "text": [
      "[23, 34, 48]\n"
     ]
    }
   ],
   "source": [
    "pAry = seqSearchMulti(dataArr, 44)\n",
    "print(pAry)"
   ]
  },
  {
   "cell_type": "markdown",
   "metadata": {},
   "source": [
    "## 12. 이진 검색"
   ]
  },
  {
   "cell_type": "code",
   "execution_count": 203,
   "metadata": {},
   "outputs": [],
   "source": [
    "import random"
   ]
  },
  {
   "cell_type": "code",
   "execution_count": 220,
   "metadata": {},
   "outputs": [],
   "source": [
    "def binSearch(arr, data):\n",
    "    global count\n",
    "    pos = -1\n",
    "    start = 0\n",
    "    end = len(arr)-1\n",
    "\n",
    "    while (start <= end):\n",
    "        count += 1\n",
    "        mid = (start + end) // 2\n",
    "        if arr[mid] == data:\n",
    "            return mid\n",
    "        elif arr[mid] < data:\n",
    "            start = mid + 1\n",
    "        else:\n",
    "            start = mid - 1\n",
    "    return pos"
   ]
  },
  {
   "cell_type": "code",
   "execution_count": 221,
   "metadata": {},
   "outputs": [],
   "source": [
    "count = 0\n",
    "dataArr = [random.randint(100000, 999999) for _ in range(10000)]\n",
    "dataArr.sort()"
   ]
  },
  {
   "cell_type": "code",
   "execution_count": null,
   "metadata": {},
   "outputs": [],
   "source": [
    "position = binSearch(dataArr, 111111)\n",
    "print(position, dataArr[position], count)"
   ]
  },
  {
   "cell_type": "code",
   "execution_count": null,
   "metadata": {},
   "outputs": [],
   "source": [
    "print(positiontion, dataArr[position])"
   ]
  },
  {
   "cell_type": "markdown",
   "metadata": {},
   "source": [
    "## **알고리즘 문제"
   ]
  },
  {
   "cell_type": "code",
   "execution_count": null,
   "metadata": {},
   "outputs": [],
   "source": [
    "\n",
    "# 제공된 데이터에서 숫자, 특수문자, 공백을 제거하고 소문자로 변환한다.\n",
    "def makeNormalData(saleKind, saleNumber): # 판매된 물품 코드 문자열 배열, 판매된 물품의 개수\n",
    "    retData = [] # 숫자, 공백, 특수문자가 제거된 소문자 문자열 배열.\n",
    "\n",
    "    ################ 여기부터 코딩 (1) -------->\n",
    "\n",
    "\n",
    "\n",
    "\n",
    "    ################ <------------- 여기까지코딩 (1)\n",
    "\n",
    "    return retData\n",
    "\n",
    "\n",
    "\n",
    "# 순서가 바뀐 글자의 순서를 올바른 순서로 바로 잡는다.\n",
    "def correctLetterOrder(saleKind, saleNumber, products): # 판매된 물품 코드 문자열 배열, 판매된 물품의 개수, 편의점에서 판매하는 물품 코드 배열 (13종 고정)\n",
    "    retData = [] # 글자의 순서가 올바른 순서로 정돈된 문자열 배열.\n",
    "\n",
    "    ################ 여기부터 코딩 (2) -------->\n",
    "\n",
    "\n",
    "\n",
    "\n",
    "    ################ <------------- 여기까지코딩 (2)\n",
    "\n",
    "    return retData\n",
    "\n",
    "\n",
    "\n",
    "# 중복된 물품을 제거하고 정렬한다.\n",
    "def makeDistinctedData(saleKind, saleNumber): # 소문자로만 구성된 물품 코드 문자열 배열, \t판매된 물품의 개수\n",
    "    retData = [] # 중복이 제거된 문자열 배열\n",
    "\n",
    "    ################ 여기부터 코딩 (3) -------->\n",
    "\n",
    "\n",
    "\n",
    "\n",
    "    ################ <------------- 여기까지코딩 (3)\n",
    "\n",
    "    return retData\n",
    "\n",
    "\n",
    "# 편의점에서 판매하는 물품의 종류 (13종-고정)\n",
    "products= [\"coffee\", \"gimbap\", \"water\", \"ramen\", \"kimchi\", \"rice\", \"cigarettes\", \n",
    "\t\t\"milk\", \"popcorn\", \"chocolate\", \"paper\", \"soju\", \"beer\"]\n",
    "\n",
    "## 전역 변수 선언 부분\n",
    "saleNumber = 0 # 판매된 물품의 개수. \n",
    "saleKind= [] # 하루에  판매된 물품 목록.  예)  coffee, COFFEE, CO FFE E, coFfee, c#off$ee, cO f%%&fe*e\n",
    "\n",
    "distinctionKind = [] # 판매된 물품의 구분된 목록. 예)  coffee, gimbap, water  등 \n",
    "distinctionNumber = 0 #구분된 개수.  \n",
    "\n",
    "\n",
    "def main() :\n",
    "        global products, saleNumber, saleKind, distinctionKind, distinctionNumber\n",
    "\n",
    "        loadData() # 데이터 읽어오기.\n",
    "\n",
    "        ## 원본 출력\n",
    "        print('(0) 오늘 판매된 물품 목록')\n",
    "        printData(saleKind, saleNumber)\n",
    "        \n",
    "        ## 1. 데이터에서 공백및 특수문자를 제거한 후 소문자로 만든다. \n",
    "        saleKind = makeNormalData(saleKind, saleNumber)\n",
    "        print(' (1) 목록에서 공백 및 특수문자 제거후 소문자로 만든 결과')\n",
    "        printData(saleKind, saleNumber)\n",
    "\n",
    "        ## 2. 물품의 이름을 바로 잡는다. \n",
    "        saleKind = correctLetterOrder(saleKind, saleNumber, products)\n",
    "        print(' (2) 글자의 순서를 모두 수정한 결과')\n",
    "        printData(saleKind, saleNumber)\n",
    "\n",
    "        ## 3. 데이터에서 중복된 목록을 제거한다. \n",
    "        distinctionKind = makeDistinctedData(saleKind, saleNumber)\n",
    "        print(' (3) 중복 목록을 제거하고 정렬한 결과(=오늘 판매된 제품 종류)')\n",
    "        printData(distinctionKind, len(distinctionKind))\n",
    "        \n",
    "## 함수 선언 부분\n",
    "def  loadData() : # 데이터 불러오기\n",
    "    global products, saleNumber, saleKind, distinctionKind, distinctionNumber\n",
    "\n",
    "    ###########\n",
    "    # 제공 데이터 세트 1 \n",
    "    # 18건 데이터. \n",
    "    ###########\n",
    "    saleNumber = 20\n",
    "    saleKind = \\\n",
    "             [  \"coffee\", \"eeFFCo\",  \"amenr\", \"Ra Men\",  \"CO FFE E\", \n",
    "\t\t\"coFfee\", \"c#off$ee\", \"cOe f%%&f*e\", \"bapgim\", \"rice\", \"RiCE\", \"*Ri&c@e\", \n",
    "\t\t\"gim $bap\", \"BAP@gim\", \"*G*imba p\", \"water\",\"FFCOEE\", \"WATER\", \"TERAW\",  \"*tW$a ER#\" ]\n",
    "    \n",
    "\n",
    "def printData(kind, count) :\n",
    "    global products, saleNumber, saleKind, distinctionKind, distinctionNumber\n",
    "    printHeader()\n",
    "    if len(kind) <= 0 :\n",
    "            return\n",
    "    for i in range(0, count) :\n",
    "            print(\"%s \" % kind[i])\n",
    "    print()\n",
    "\n",
    "def printHeader() :\n",
    "    print(\"--------------\")\n",
    "    print(\"물품 종류\")\n",
    "    print(\"--------------\")\n",
    "    \n",
    "## 메인 함수 호출 ##\n",
    "if __name__ == \"__main__\" :\n",
    "    main()"
   ]
  },
  {
   "cell_type": "code",
   "execution_count": null,
   "metadata": {},
   "outputs": [],
   "source": []
  },
  {
   "cell_type": "code",
   "execution_count": null,
   "metadata": {},
   "outputs": [],
   "source": []
  }
 ],
 "metadata": {
  "kernelspec": {
   "display_name": "Python 3",
   "language": "python",
   "name": "python3"
  },
  "language_info": {
   "codemirror_mode": {
    "name": "ipython",
    "version": 3
   },
   "file_extension": ".py",
   "mimetype": "text/x-python",
   "name": "python",
   "nbconvert_exporter": "python",
   "pygments_lexer": "ipython3",
   "version": "3.7.0"
  }
 },
 "nbformat": 4,
 "nbformat_minor": 2
}
